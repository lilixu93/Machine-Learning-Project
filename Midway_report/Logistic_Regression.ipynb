{
 "cells": [
  {
   "cell_type": "markdown",
   "metadata": {},
   "source": [
    "Import Lib"
   ]
  },
  {
   "cell_type": "code",
   "execution_count": 228,
   "metadata": {
    "collapsed": true
   },
   "outputs": [],
   "source": [
    "import pandas as pd\n",
    "import statsmodels.api as sm\n",
    "import pylab as pl\n",
    "import numpy as np\n",
    "import math\n",
    "from decimal import *\n",
    "from sklearn.metrics import *\n",
    "from sklearn.naive_bayes import BernoulliNB\n",
    "import sklearn"
   ]
  },
  {
   "cell_type": "markdown",
   "metadata": {},
   "source": [
    "Read Data"
   ]
  },
  {
   "cell_type": "code",
   "execution_count": 229,
   "metadata": {
    "collapsed": false
   },
   "outputs": [
    {
     "data": {
      "text/html": [
       "<div>\n",
       "<table border=\"1\" class=\"dataframe\">\n",
       "  <thead>\n",
       "    <tr style=\"text-align: right;\">\n",
       "      <th></th>\n",
       "      <th>id</th>\n",
       "      <th>id_str</th>\n",
       "      <th>Screen_name</th>\n",
       "      <th>Location</th>\n",
       "      <th>Description</th>\n",
       "      <th>Url</th>\n",
       "      <th>Followers_count</th>\n",
       "      <th>Friends_count</th>\n",
       "      <th>Listed_count</th>\n",
       "      <th>Created_at</th>\n",
       "      <th>Favourites_count</th>\n",
       "      <th>Verified</th>\n",
       "      <th>Statuses_count</th>\n",
       "      <th>Lang</th>\n",
       "      <th>Status</th>\n",
       "      <th>Default_profile</th>\n",
       "      <th>Default_profile_image</th>\n",
       "      <th>Has_extended_profile</th>\n",
       "      <th>name</th>\n",
       "      <th>Bot</th>\n",
       "    </tr>\n",
       "  </thead>\n",
       "  <tbody>\n",
       "    <tr>\n",
       "      <th>0</th>\n",
       "      <td>2.237810e+08</td>\n",
       "      <td>2.237810e+08</td>\n",
       "      <td>arcibald1976</td>\n",
       "      <td>NaN</td>\n",
       "      <td>NaN</td>\n",
       "      <td>NaN</td>\n",
       "      <td>7</td>\n",
       "      <td>182</td>\n",
       "      <td>0</td>\n",
       "      <td>2010-12-07 09:27:38</td>\n",
       "      <td>1</td>\n",
       "      <td>False</td>\n",
       "      <td>42</td>\n",
       "      <td>en</td>\n",
       "      <td>{'in_reply_to_status_id_str': None, 'retweet_c...</td>\n",
       "      <td>True</td>\n",
       "      <td>False</td>\n",
       "      <td>False</td>\n",
       "      <td>daniel spanu</td>\n",
       "      <td>1</td>\n",
       "    </tr>\n",
       "    <tr>\n",
       "      <th>1</th>\n",
       "      <td>3.236639e+09</td>\n",
       "      <td>3.236639e+09</td>\n",
       "      <td>shayleaanderson</td>\n",
       "      <td>NaN</td>\n",
       "      <td>NaN</td>\n",
       "      <td>NaN</td>\n",
       "      <td>13</td>\n",
       "      <td>1479</td>\n",
       "      <td>0</td>\n",
       "      <td>2015-05-05 19:20:01</td>\n",
       "      <td>0</td>\n",
       "      <td>False</td>\n",
       "      <td>4</td>\n",
       "      <td>en</td>\n",
       "      <td>{'in_reply_to_status_id_str': None, 'retweet_c...</td>\n",
       "      <td>True</td>\n",
       "      <td>True</td>\n",
       "      <td>False</td>\n",
       "      <td>Shay Corless</td>\n",
       "      <td>1</td>\n",
       "    </tr>\n",
       "  </tbody>\n",
       "</table>\n",
       "</div>"
      ],
      "text/plain": [
       "             id        id_str      Screen_name Location Description  Url  \\\n",
       "0  2.237810e+08  2.237810e+08     arcibald1976      NaN         NaN  NaN   \n",
       "1  3.236639e+09  3.236639e+09  shayleaanderson      NaN         NaN  NaN   \n",
       "\n",
       "   Followers_count  Friends_count  Listed_count           Created_at  \\\n",
       "0                7            182             0  2010-12-07 09:27:38   \n",
       "1               13           1479             0  2015-05-05 19:20:01   \n",
       "\n",
       "   Favourites_count Verified  Statuses_count Lang  \\\n",
       "0                 1    False              42   en   \n",
       "1                 0    False               4   en   \n",
       "\n",
       "                                              Status Default_profile  \\\n",
       "0  {'in_reply_to_status_id_str': None, 'retweet_c...            True   \n",
       "1  {'in_reply_to_status_id_str': None, 'retweet_c...            True   \n",
       "\n",
       "  Default_profile_image Has_extended_profile          name  Bot  \n",
       "0                 False                False  daniel spanu    1  \n",
       "1                  True                False  Shay Corless    1  "
      ]
     },
     "execution_count": 229,
     "metadata": {},
     "output_type": "execute_result"
    }
   ],
   "source": [
    "path = '/Users/liwang/desktop/ml/machine-learning-project/'\n",
    "bot_acct = pd.read_csv(path + 'BotAccounts.csv')\n",
    "good_acct = pd.read_csv(path + 'GoodAccounts.csv')\n",
    "data = bot_acct.append(good_acct)\n",
    "data.head(2)"
   ]
  },
  {
   "cell_type": "markdown",
   "metadata": {},
   "source": [
    "Only keep these columns in data: 'Followers_count', 'Friends_count', 'Listed_count','Favourites_count','Statuses_count, 'Bot'"
   ]
  },
  {
   "cell_type": "code",
   "execution_count": 230,
   "metadata": {
    "collapsed": false
   },
   "outputs": [],
   "source": [
    "data = data.drop(data.columns[[0,1,2,3,4,5,9,11,13,14,15,16,17,18]], axis=1)"
   ]
  },
  {
   "cell_type": "markdown",
   "metadata": {},
   "source": [
    "Get summerized data information"
   ]
  },
  {
   "cell_type": "code",
   "execution_count": 231,
   "metadata": {
    "collapsed": false
   },
   "outputs": [
    {
     "name": "stdout",
     "output_type": "stream",
     "text": [
      "       Followers_count  Friends_count  Listed_count  Favourites_count  \\\n",
      "count     1.000000e+02     100.000000     100.00000         100.00000   \n",
      "mean      1.060549e+05     616.970000     408.70000        3168.19000   \n",
      "std       9.949956e+05     680.210744    3452.94585       10870.60446   \n",
      "min       0.000000e+00       0.000000       0.00000           0.00000   \n",
      "25%       5.750000e+00     153.250000       0.00000           0.00000   \n",
      "50%       2.650000e+01     400.500000       0.00000          12.00000   \n",
      "75%       3.280000e+02     751.500000       2.00000         607.50000   \n",
      "max       9.949474e+06    3922.000000   34384.00000       92644.00000   \n",
      "\n",
      "       Statuses_count         Bot  \n",
      "count      100.000000  100.000000  \n",
      "mean      3310.100000    0.500000  \n",
      "std       9224.597759    0.502519  \n",
      "min          1.000000    0.000000  \n",
      "25%          7.000000    0.000000  \n",
      "50%         38.000000    0.500000  \n",
      "75%       1022.250000    1.000000  \n",
      "max      65098.000000    1.000000  \n"
     ]
    }
   ],
   "source": [
    "print data.describe()"
   ]
  },
  {
   "cell_type": "markdown",
   "metadata": {},
   "source": [
    "Get Standard Deviation of each column"
   ]
  },
  {
   "cell_type": "code",
   "execution_count": 232,
   "metadata": {
    "collapsed": false
   },
   "outputs": [
    {
     "name": "stdout",
     "output_type": "stream",
     "text": [
      "Followers_count     994995.567786\n",
      "Friends_count          680.210744\n",
      "Listed_count          3452.945850\n",
      "Favourites_count     10870.604460\n",
      "Statuses_count        9224.597759\n",
      "Bot                      0.502519\n",
      "dtype: float64\n"
     ]
    }
   ],
   "source": [
    "print data.std()"
   ]
  },
  {
   "cell_type": "markdown",
   "metadata": {},
   "source": [
    "Plot all of the columns"
   ]
  },
  {
   "cell_type": "code",
   "execution_count": 233,
   "metadata": {
    "collapsed": false
   },
   "outputs": [
    {
     "data": {
      "image/png": "[encoded data removed]",
      "text/plain": [
       "<matplotlib.figure.Figure at 0x11be57c10>"
      ]
     },
     "metadata": {},
     "output_type": "display_data"
    }
   ],
   "source": [
    "data.hist()\n",
    "pl.show()"
   ]
  },
  {
   "cell_type": "markdown",
   "metadata": {},
   "source": [
    "Manually add the intercept for logit regression"
   ]
  },
  {
   "cell_type": "code",
   "execution_count": 234,
   "metadata": {
    "collapsed": true
   },
   "outputs": [],
   "source": [
    "data['intercept'] = 1.0"
   ]
  },
  {
   "cell_type": "markdown",
   "metadata": {},
   "source": [
    "We use all variables other than 'Bot' as explanatory variable, and 'Bot' as response variable"
   ]
  },
  {
   "cell_type": "code",
   "execution_count": 235,
   "metadata": {
    "collapsed": false
   },
   "outputs": [],
   "source": [
    "exp_cols = ['Followers_count', 'Friends_count', 'Listed_count','Favourites_count','Statuses_count', 'intercept']"
   ]
  },
  {
   "cell_type": "markdown",
   "metadata": {},
   "source": [
    "Perform Logistic Regression"
   ]
  },
  {
   "cell_type": "code",
   "execution_count": 236,
   "metadata": {
    "collapsed": false
   },
   "outputs": [
    {
     "name": "stdout",
     "output_type": "stream",
     "text": [
      "Optimization terminated successfully.\n",
      "         Current function value: 0.372181\n",
      "         Iterations 19\n",
      "                           Logit Regression Results                           \n",
      "==============================================================================\n",
      "Dep. Variable:                    Bot   No. Observations:                  100\n",
      "Model:                          Logit   Df Residuals:                       94\n",
      "Method:                           MLE   Df Model:                            5\n",
      "Date:                Sat, 08 Apr 2017   Pseudo R-squ.:                  0.4631\n",
      "Time:                        18:51:46   Log-Likelihood:                -37.218\n",
      "converged:                       True   LL-Null:                       -69.315\n",
      "                                        LLR p-value:                 1.647e-12\n",
      "====================================================================================\n",
      "                       coef    std err          z      P>|z|      [95.0% Conf. Int.]\n",
      "------------------------------------------------------------------------------------\n",
      "Followers_count     -0.0202      0.008     -2.691      0.007        -0.035    -0.006\n",
      "Friends_count        0.0013      0.001      2.285      0.022         0.000     0.002\n",
      "Listed_count         0.0176      0.470      0.037      0.970        -0.904     0.939\n",
      "Favourites_count -4.097e-05      0.000     -0.096      0.924        -0.001     0.001\n",
      "Statuses_count   -2.958e-05      0.000     -0.111      0.912        -0.001     0.000\n",
      "intercept            0.9006      0.380      2.372      0.018         0.156     1.645\n",
      "====================================================================================\n"
     ]
    }
   ],
   "source": [
    "logit = sm.Logit(data['Bot'], data[exp_cols])\n",
    "result = logit.fit()\n",
    "print result.summary()"
   ]
  },
  {
   "cell_type": "markdown",
   "metadata": {},
   "source": [
    "Check Confidence Intervals of each coefficient"
   ]
  },
  {
   "cell_type": "code",
   "execution_count": 237,
   "metadata": {
    "collapsed": false
   },
   "outputs": [
    {
     "name": "stdout",
     "output_type": "stream",
     "text": [
      "                         0         1\n",
      "Followers_count  -0.034989 -0.005500\n",
      "Friends_count     0.000182  0.002381\n",
      "Listed_count     -0.904230  0.939451\n",
      "Favourites_count -0.000881  0.000799\n",
      "Statuses_count   -0.000553  0.000494\n",
      "intercept         0.156424  1.644849\n"
     ]
    }
   ],
   "source": [
    "print result.conf_int()"
   ]
  },
  {
   "cell_type": "markdown",
   "metadata": {},
   "source": [
    "In the result above, Listed_count, Favourites_count, and Statuses_count show statistical significance on the 95% level. Also, by looking at the confidence intervals of each coefficient, it is safe to say that, we are 95% confident that, Followers_count has a negative relationship toward the chance of an account being a bot. Although Friends_count has a positive relationship with the chance of an account being a bot, its confidence interval is too close to zero and may not show a strong link between this variable and the chance of an account being a bot. \n",
    "In simple words, an account with more followers actually has lower chance of being a bot. "
   ]
  },
  {
   "cell_type": "markdown",
   "metadata": {},
   "source": [
    "Consider Odd Ratio. This indicates how a 1 unit increase or decrease in a variable affects the odds of an account being a bot."
   ]
  },
  {
   "cell_type": "code",
   "execution_count": 238,
   "metadata": {
    "collapsed": false
   },
   "outputs": [
    {
     "name": "stdout",
     "output_type": "stream",
     "text": [
      "Followers_count     0.979959\n",
      "Friends_count       1.001283\n",
      "Listed_count        1.017767\n",
      "Favourites_count    0.999959\n",
      "Statuses_count      0.999970\n",
      "intercept           2.461169\n",
      "dtype: float64\n"
     ]
    }
   ],
   "source": [
    "print np.exp(result.params)"
   ]
  },
  {
   "cell_type": "markdown",
   "metadata": {},
   "source": [
    "So far, our predicted coefficients are as following:\n",
    "Followers_count     -0.0202\n",
    "Friends_count        0.0013\n",
    "Listed_count         0.0176\n",
    "Favourites_count -4.097e-05\n",
    "Statuses_count   -2.958e-05\n",
    "intercept            0.9006\n",
    "\n",
    "By using these coefficients, we predict the probability of an account being a bot. If probability is greater than 0.5, we predict it will be a bot (value 1). Otherwise it will be non-bot (value 0).\n",
    "Testing data is provided. "
   ]
  },
  {
   "cell_type": "code",
   "execution_count": 239,
   "metadata": {
    "collapsed": false
   },
   "outputs": [
    {
     "data": {
      "text/html": [
       "<div>\n",
       "<table border=\"1\" class=\"dataframe\">\n",
       "  <thead>\n",
       "    <tr style=\"text-align: right;\">\n",
       "      <th></th>\n",
       "      <th>followers_count</th>\n",
       "      <th>friends_count</th>\n",
       "      <th>listedcount</th>\n",
       "      <th>favourites_count</th>\n",
       "      <th>statuses_count</th>\n",
       "      <th>bot</th>\n",
       "    </tr>\n",
       "  </thead>\n",
       "  <tbody>\n",
       "    <tr>\n",
       "      <th>0</th>\n",
       "      <td>1129</td>\n",
       "      <td>7</td>\n",
       "      <td>2</td>\n",
       "      <td>0</td>\n",
       "      <td>23557</td>\n",
       "      <td>1</td>\n",
       "    </tr>\n",
       "    <tr>\n",
       "      <th>1</th>\n",
       "      <td>0</td>\n",
       "      <td>22</td>\n",
       "      <td>0</td>\n",
       "      <td>0</td>\n",
       "      <td>1</td>\n",
       "      <td>1</td>\n",
       "    </tr>\n",
       "  </tbody>\n",
       "</table>\n",
       "</div>"
      ],
      "text/plain": [
       "   followers_count  friends_count  listedcount  favourites_count  \\\n",
       "0             1129              7            2                 0   \n",
       "1                0             22            0                 0   \n",
       "\n",
       "   statuses_count  bot  \n",
       "0           23557    1  \n",
       "1               1    1  "
      ]
     },
     "execution_count": 239,
     "metadata": {},
     "output_type": "execute_result"
    }
   ],
   "source": [
    "# Load test data; only keep five relavent columns and 'bot' column.\n",
    "test_bot = pd.read_csv(path + 'data/bots_data.csv')\n",
    "test_good = pd.read_csv(path + 'data/nonbots_data.csv')\n",
    "test_data = test_bot.append(test_good)\n",
    "test_data = test_data.drop(test_data.columns[[0,1,2,3,4,5,9,11,13,14,15,16,17,18]], axis=1)\n",
    "test_data.head(2)"
   ]
  },
  {
   "cell_type": "code",
   "execution_count": 240,
   "metadata": {
    "collapsed": false
   },
   "outputs": [],
   "source": [
    "# Logistic Regression\n",
    "def regression(row):\n",
    "    def linear(row):\n",
    "        return -1 * (-0.0202 * row['followers_count'] + 0.0013 * row['friends_count'] + 0.0176 * row['listedcount'] - 4.097 * 10**(-5) * row['favourites_count'] - 2.958 * 10**(-5) * row['statuses_count'] + 0.9006)\n",
    "    \n",
    "    if linear(row) >= 0: \n",
    "              return 1\n",
    "    else: \n",
    "              return 0"
   ]
  },
  {
   "cell_type": "code",
   "execution_count": 241,
   "metadata": {
    "collapsed": false
   },
   "outputs": [
    {
     "name": "stdout",
     "output_type": "stream",
     "text": [
      "Accuracy Score is: 0.367831541219\n"
     ]
    }
   ],
   "source": [
    "# Accuracy Score\n",
    "predict = []\n",
    "for index, row in test_data.iterrows():\n",
    "    predict.append(regression(row))\n",
    "actual = test_data['bot']\n",
    "accuracyScore = accuracy_score(actual, predict)\n",
    "print(\"Accuracy Score is: \" + str(accuracyScore))"
   ]
  },
  {
   "cell_type": "code",
   "execution_count": 242,
   "metadata": {
    "collapsed": false
   },
   "outputs": [
    {
     "name": "stdout",
     "output_type": "stream",
     "text": [
      "Precision is: 0.390364422483\n"
     ]
    }
   ],
   "source": [
    "# Precision Score\n",
    "precision = precision_score(actual, predict)\n",
    "print(\"Precision is: \" + str(precision))"
   ]
  },
  {
   "cell_type": "code",
   "execution_count": 243,
   "metadata": {
    "collapsed": false
   },
   "outputs": [
    {
     "name": "stdout",
     "output_type": "stream",
     "text": [
      "Recall is: 0.598484848485\n"
     ]
    }
   ],
   "source": [
    "# Recall Score \n",
    "recall = recall_score(actual, predict)\n",
    "print(\"Recall is: \" + str(recall))"
   ]
  },
  {
   "cell_type": "code",
   "execution_count": 244,
   "metadata": {
    "collapsed": false
   },
   "outputs": [
    {
     "name": "stdout",
     "output_type": "stream",
     "text": [
      "F1: 0.472523364486\n"
     ]
    }
   ],
   "source": [
    "# F1 Score\n",
    "F1 = 2 * (precision * recall) / (precision + recall)\n",
    "print(\"F1: \" + str(F1))"
   ]
  },
  {
   "cell_type": "code",
   "execution_count": 245,
   "metadata": {
    "collapsed": false
   },
   "outputs": [
    {
     "data": {
      "text/plain": [
       "0.5"
      ]
     },
     "execution_count": 245,
     "metadata": {},
     "output_type": "execute_result"
    }
   ],
   "source": [
    "# AUC\n",
    "sklearn.metrics.auc(predict, actual, reorder=True)"
   ]
  }
 ],
 "metadata": {
  "kernelspec": {
   "display_name": "Python 2",
   "language": "python",
   "name": "python2"
  },
  "language_info": {
   "codemirror_mode": {
    "name": "ipython",
    "version": 2
   },
   "file_extension": ".py",
   "mimetype": "text/x-python",
   "name": "python",
   "nbconvert_exporter": "python",
   "pygments_lexer": "ipython2",
   "version": "2.7.13"
  }
 },
 "nbformat": 4,
 "nbformat_minor": 2
}
