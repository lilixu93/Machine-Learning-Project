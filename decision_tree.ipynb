{
 "cells": [
  {
   "cell_type": "code",
   "execution_count": 1,
   "metadata": {
    "collapsed": true
   },
   "outputs": [],
   "source": [
    "import pandas as pd\n",
    "import numpy as np\n",
    "from sklearn import tree"
   ]
  },
  {
   "cell_type": "code",
   "execution_count": 2,
   "metadata": {
    "collapsed": false
   },
   "outputs": [],
   "source": [
    "#botdata = pd.read_csv('botAccounts.csv')\n",
    "#gooddata= pd.read_csv('GoodAccounts.csv', encoding = 'ISO-8859-1')"
   ]
  },
  {
   "cell_type": "code",
   "execution_count": 2,
   "metadata": {
    "collapsed": true
   },
   "outputs": [],
   "source": [
    "testbot = pd.read_csv(\"/Users/lilixu/Desktop/ML/Machine-Learning-Project/data/bots_data.csv\", encoding = 'ISO-8859-1')\n",
    "testgood = pd.read_csv(\"/Users/lilixu/Desktop/ML/Machine-Learning-Project/data/nonbots_data.csv\", encoding = 'ISO-8859-1')"
   ]
  },
  {
   "cell_type": "code",
   "execution_count": 3,
   "metadata": {
    "collapsed": false
   },
   "outputs": [],
   "source": [
    "df = testbot.append(testgood)"
   ]
  },
  {
   "cell_type": "code",
   "execution_count": 146,
   "metadata": {
    "collapsed": false
   },
   "outputs": [
    {
     "data": {
      "text/plain": [
       "(1056, 20)"
      ]
     },
     "execution_count": 146,
     "metadata": {},
     "output_type": "execute_result"
    }
   ],
   "source": [
    "testbot.shape"
   ]
  },
  {
   "cell_type": "code",
   "execution_count": 147,
   "metadata": {
    "collapsed": false
   },
   "outputs": [
    {
     "data": {
      "text/plain": [
       "(1176, 20)"
      ]
     },
     "execution_count": 147,
     "metadata": {},
     "output_type": "execute_result"
    }
   ],
   "source": [
    "testgood.shape"
   ]
  },
  {
   "cell_type": "code",
   "execution_count": 143,
   "metadata": {
    "collapsed": false
   },
   "outputs": [
    {
     "data": {
      "text/plain": [
       "(2232, 20)"
      ]
     },
     "execution_count": 143,
     "metadata": {},
     "output_type": "execute_result"
    }
   ],
   "source": [
    "df.shape"
   ]
  },
  {
   "cell_type": "code",
   "execution_count": 46,
   "metadata": {
    "collapsed": false
   },
   "outputs": [],
   "source": [
    "#modify the column name to fit\n",
    "def adjust_column_name(df):\n",
    "    for x in df.columns.values:\n",
    "        df = df.rename(columns={x: x.lower()})\n",
    "    df = df.rename(columns={'listed_count' : 'listedcount'})"
   ]
  },
  {
   "cell_type": "code",
   "execution_count": 6,
   "metadata": {
    "collapsed": false
   },
   "outputs": [
    {
     "name": "stderr",
     "output_type": "stream",
     "text": [
      "/Library/Frameworks/Python.framework/Versions/3.5/lib/python3.5/site-packages/sklearn/cross_validation.py:44: DeprecationWarning: This module was deprecated in version 0.18 in favor of the model_selection module into which all the refactored classes and functions are moved. Also note that the interface of the new CV iterators are different from that of this module. This module will be removed in 0.20.\n",
      "  \"This module will be removed in 0.20.\", DeprecationWarning)\n"
     ]
    }
   ],
   "source": [
    "# split the dataset to training & testing\n",
    "from sklearn.cross_validation import train_test_split\n",
    "train, test = train_test_split(df, test_size = 0.2)"
   ]
  },
  {
   "cell_type": "code",
   "execution_count": 53,
   "metadata": {
    "collapsed": false
   },
   "outputs": [],
   "source": [
    "from sklearn.linear_model import LogisticRegression\n",
    "from sklearn.feature_extraction.text import CountVectorizer\n",
    "from sklearn.cross_validation import cross_val_score\n",
    "from sklearn.feature_extraction.text import TfidfTransformer\n",
    "from sklearn.naive_bayes import MultinomialNB, BernoulliNB, GaussianNB\n",
    "from sklearn.metrics import precision_score, recall_score, f1_score, roc_auc_score"
   ]
  },
  {
   "cell_type": "code",
   "execution_count": null,
   "metadata": {
    "collapsed": true
   },
   "outputs": [],
   "source": [
    "df = testbot.append(testgood).fillna(\"\")"
   ]
  },
  {
   "cell_type": "code",
   "execution_count": 161,
   "metadata": {
    "collapsed": true
   },
   "outputs": [],
   "source": [
    "def nb_dt(nb_column_name):\n",
    "    train, test = train_test_split(df, test_size = 0.2)\n",
    "    numfeatures = ['followers_count', 'friends_count', 'listedcount','favourites_count','statuses_count','nb_result']\n",
    "    count_vect = CountVectorizer()\n",
    "    \n",
    "    def convert(column):\n",
    "        X_word_counts = count_vect.fit_transform(column)\n",
    "        count_vect.vocabulary_.get(u'algorithm')\n",
    "        tf_transformer = TfidfTransformer(use_idf=False).fit(X_word_counts)\n",
    "        X_word_tf = tf_transformer.transform(X_word_counts)\n",
    "        return X_word_tf.todense()\n",
    "    \n",
    "    def convert2(column):\n",
    "        X_word_counts = count_vect.transform(test[nb_column_name])\n",
    "        tf_transformer = TfidfTransformer(use_idf=False).fit(X_word_counts)\n",
    "        X_word_tf = tf_transformer.transform(X_word_counts)\n",
    "        return X_word_tf.todense()\n",
    "    \n",
    "    #Train\n",
    "    clf = tree.DecisionTreeClassifier(random_state=0)\n",
    "    M_clf = MultinomialNB().fit(convert(train[nb_column_name]), train['bot'])\n",
    "    train['nb_result'] = M_clf.predict(convert(train[nb_column_name]))\n",
    "    clf.fit(train[numfeatures],train[\"bot\"])\n",
    "    #Test\n",
    "    test['nb_result'] = M_clf.predict(convert2(train[nb_column_name]))\n",
    "    \n",
    "    #Evaluate\n",
    "    precison = precision_score(clf.predict(test[numfeatures]),test['bot'])\n",
    "    recall = recall_score(clf.predict(test[numfeatures]),test['bot'])\n",
    "    f1 = f1_score(clf.predict(test[numfeatures]),test['bot'])\n",
    "    roc = roc_auc_score(clf.predict(test[numfeatures]),test['bot'])\n",
    "    return [precison, recall, f1, roc]"
   ]
  },
  {
   "cell_type": "code",
   "execution_count": 184,
   "metadata": {
    "collapsed": false
   },
   "outputs": [
    {
     "name": "stderr",
     "output_type": "stream",
     "text": [
      "/Library/Frameworks/Python.framework/Versions/3.5/lib/python3.5/site-packages/ipykernel/__main__.py:22: SettingWithCopyWarning: \n",
      "A value is trying to be set on a copy of a slice from a DataFrame.\n",
      "Try using .loc[row_indexer,col_indexer] = value instead\n",
      "\n",
      "See the caveats in the documentation: http://pandas.pydata.org/pandas-docs/stable/indexing.html#indexing-view-versus-copy\n",
      "/Library/Frameworks/Python.framework/Versions/3.5/lib/python3.5/site-packages/ipykernel/__main__.py:25: SettingWithCopyWarning: \n",
      "A value is trying to be set on a copy of a slice from a DataFrame.\n",
      "Try using .loc[row_indexer,col_indexer] = value instead\n",
      "\n",
      "See the caveats in the documentation: http://pandas.pydata.org/pandas-docs/stable/indexing.html#indexing-view-versus-copy\n"
     ]
    },
    {
     "name": "stdout",
     "output_type": "stream",
     "text": [
      "[0.83027522935779818, 0.82648401826484019, 0.82837528604118993, 0.83210165825522708]\n",
      "[0.84375, 0.87096774193548387, 0.8571428571428571, 0.85939691444600286]\n",
      "[0.84057971014492749, 0.82464454976303314, 0.83253588516746402, 0.84240702064422845]\n",
      "[0.88118811881188119, 0.84761904761904761, 0.86407766990291268, 0.87317661241711886]\n",
      "[0.87980769230769229, 0.84331797235023043, 0.86117647058823532, 0.86731116008815867]\n",
      "[0.89861751152073732, 0.8666666666666667, 0.88235294117647067, 0.88378378378378386]\n",
      "[0.86818181818181817, 0.86818181818181817, 0.86818181818181828, 0.87021425710853029]\n",
      "[0.83743842364532017, 0.82524271844660191, 0.83129584352078234, 0.8441566289328446]\n",
      "[0.89177489177489178, 0.88034188034188032, 0.88602150537634405, 0.88148549416155042]\n",
      "[0.8303571428571429, 0.85321100917431192, 0.84162895927601822, 0.84363607227274551]\n",
      "[0.87692307692307692, 0.79534883720930227, 0.8341463414634146, 0.84595028067361666]\n",
      "[0.85781990521327012, 0.86602870813397126, 0.86190476190476195, 0.86998914398295213]\n",
      "[0.83838383838383834, 0.80582524271844658, 0.82178217821782173, 0.83652257986544742]\n",
      "[0.85398230088495575, 0.9061032863849765, 0.87927107061503407, 0.88253882267966777]\n",
      "[0.83098591549295775, 0.84688995215311003, 0.83886255924170616, 0.84781472397571467]\n",
      "[0.85221674876847286, 0.80841121495327106, 0.82973621103117501, 0.83982792507320214]\n",
      "[0.83574879227053145, 0.82775119617224879, 0.83173076923076916, 0.842447026657553]\n",
      "[0.87391304347826082, 0.87772925764192145, 0.87581699346405228, 0.87235086735307099]\n",
      "[0.83919597989949746, 0.77314814814814814, 0.80481927710843371, 0.81731000481000482]\n",
      "[0.8779342723004695, 0.86175115207373276, 0.86976744186046517, 0.87435383690643154]\n"
     ]
    }
   ],
   "source": [
    "for _ in range(20):\n",
    "    print(nb_dt('description'))"
   ]
  },
  {
   "cell_type": "code",
   "execution_count": 158,
   "metadata": {
    "collapsed": true
   },
   "outputs": [],
   "source": [
    "from sklearn.metrics import precision_score, recall_score, f1_score, roc_auc_score"
   ]
  },
  {
   "cell_type": "code",
   "execution_count": 159,
   "metadata": {
    "collapsed": false
   },
   "outputs": [],
   "source": [
    "def dt():\n",
    "    df = testbot.append(testgood)\n",
    "    numfeatures = ['followers_count', 'friends_count', 'listedcount','favourites_count','statuses_count']\n",
    "    train, test = train_test_split(df, test_size = 0.2)\n",
    "    clf.fit(train[numfeatures],train[\"bot\"])\n",
    "    precison = precision_score(clf.predict(test[numfeatures]),test['bot'])\n",
    "    recall = recall_score(clf.predict(test[numfeatures]),test['bot'])\n",
    "    f1 = f1_score(clf.predict(test[numfeatures]),test['bot'])\n",
    "    roc = roc_auc_score(clf.predict(test[numfeatures]),test['bot'])\n",
    "    return [precison, recall, f1, roc]"
   ]
  },
  {
   "cell_type": "code",
   "execution_count": 185,
   "metadata": {
    "collapsed": false
   },
   "outputs": [
    {
     "name": "stdout",
     "output_type": "stream",
     "text": [
      "[0.7981220657276995, 0.8133971291866029, 0.80568720379146919, 0.81636243013951992]\n",
      "[0.82938388625592419, 0.87064676616915426, 0.84951456310679618, 0.86215265137725994]\n",
      "[0.77880184331797231, 0.85353535353535348, 0.81445783132530114, 0.83038213459900201]\n",
      "[0.85148514851485146, 0.81516587677725116, 0.83292978208232449, 0.84402361635472722]\n",
      "[0.81132075471698117, 0.83091787439613529, 0.82100238663484482, 0.83212560386473433]\n",
      "[0.83105022831050224, 0.84651162790697676, 0.83870967741935476, 0.84351443464314335]\n",
      "[0.78280542986425339, 0.83574879227053145, 0.80841121495327106, 0.81787439613526591]\n",
      "[0.78971962616822433, 0.82843137254901966, 0.80861244019138756, 0.82162309368191733]\n",
      "[0.84070796460176989, 0.85201793721973096, 0.84632516703786187, 0.84565182575272269]\n",
      "[0.84848484848484851, 0.76712328767123283, 0.80575539568345311, 0.81777217015140591]\n",
      "[0.82211538461538458, 0.75330396475770922, 0.78620689655172415, 0.79256107328794545]\n",
      "[0.86046511627906974, 0.87264150943396224, 0.86651053864168626, 0.87249096748293864]\n",
      "[0.82407407407407407, 0.85576923076923073, 0.839622641509434, 0.84838670743482469]\n",
      "[0.78538812785388123, 0.88205128205128203, 0.83091787439613529, 0.84777167277167276]\n",
      "[0.78666666666666663, 0.84285714285714286, 0.81379310344827571, 0.82016274864376137]\n",
      "[0.83999999999999997, 0.81465517241379315, 0.82713347921225389, 0.82360665597433846]\n",
      "[0.83098591549295775, 0.85507246376811596, 0.84285714285714286, 0.85253623188405803]\n",
      "[0.84018264840182644, 0.84018264840182644, 0.84018264840182633, 0.84333693823600098]\n",
      "[0.83796296296296291, 0.8418604651162791, 0.83990719257540603, 0.84549919807538088]\n",
      "[0.8529411764705882, 0.79816513761467889, 0.82464454976303314, 0.83358038540122581]\n"
     ]
    }
   ],
   "source": [
    "for _ in range(20):\n",
    "    print(dt())"
   ]
  }
 ],
 "metadata": {
  "kernelspec": {
   "display_name": "Python 3",
   "language": "python",
   "name": "python3"
  },
  "language_info": {
   "codemirror_mode": {
    "name": "ipython",
    "version": 3
   },
   "file_extension": ".py",
   "mimetype": "text/x-python",
   "name": "python",
   "nbconvert_exporter": "python",
   "pygments_lexer": "ipython3",
   "version": "3.5.2"
  }
 },
 "nbformat": 4,
 "nbformat_minor": 1
}
