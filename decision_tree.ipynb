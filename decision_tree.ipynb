{
 "cells": [
  {
   "cell_type": "code",
   "execution_count": 1,
   "metadata": {
    "collapsed": true
   },
   "outputs": [],
   "source": [
    "import pandas as pd\n",
    "import numpy as np\n",
    "from sklearn import tree"
   ]
  },
  {
   "cell_type": "code",
   "execution_count": 2,
   "metadata": {
    "collapsed": false
   },
   "outputs": [],
   "source": [
    "#botdata = pd.read_csv('botAccounts.csv')\n",
    "#gooddata= pd.read_csv('GoodAccounts.csv', encoding = 'ISO-8859-1')"
   ]
  },
  {
   "cell_type": "code",
   "execution_count": 2,
   "metadata": {
    "collapsed": true
   },
   "outputs": [],
   "source": [
    "testbot = pd.read_csv(\"/Users/lilixu/Desktop/ML/Machine-Learning-Project/data/bots_data.csv\", encoding = 'ISO-8859-1')\n",
    "testgood = pd.read_csv(\"/Users/lilixu/Desktop/ML/Machine-Learning-Project/data/nonbots_data.csv\", encoding = 'ISO-8859-1')"
   ]
  },
  {
   "cell_type": "code",
   "execution_count": 3,
   "metadata": {
    "collapsed": false
   },
   "outputs": [],
   "source": [
    "df = testbot.append(testgood)"
   ]
  },
  {
   "cell_type": "code",
   "execution_count": 146,
   "metadata": {
    "collapsed": false
   },
   "outputs": [
    {
     "data": {
      "text/plain": [
       "(1056, 20)"
      ]
     },
     "execution_count": 146,
     "metadata": {},
     "output_type": "execute_result"
    }
   ],
   "source": [
    "testbot.shape"
   ]
  },
  {
   "cell_type": "code",
   "execution_count": 147,
   "metadata": {
    "collapsed": false
   },
   "outputs": [
    {
     "data": {
      "text/plain": [
       "(1176, 20)"
      ]
     },
     "execution_count": 147,
     "metadata": {},
     "output_type": "execute_result"
    }
   ],
   "source": [
    "testgood.shape"
   ]
  },
  {
   "cell_type": "code",
   "execution_count": 143,
   "metadata": {
    "collapsed": false
   },
   "outputs": [
    {
     "data": {
      "text/plain": [
       "(2232, 20)"
      ]
     },
     "execution_count": 143,
     "metadata": {},
     "output_type": "execute_result"
    }
   ],
   "source": [
    "df.shape"
   ]
  },
  {
   "cell_type": "code",
   "execution_count": 46,
   "metadata": {
    "collapsed": false
   },
   "outputs": [],
   "source": [
    "#modify the column name to fit\n",
    "def adjust_column_name(df):\n",
    "    for x in df.columns.values:\n",
    "        df = df.rename(columns={x: x.lower()})\n",
    "    df = df.rename(columns={'listed_count' : 'listedcount'})"
   ]
  },
  {
   "cell_type": "code",
   "execution_count": 6,
   "metadata": {
    "collapsed": false
   },
   "outputs": [
    {
     "name": "stderr",
     "output_type": "stream",
     "text": [
      "/Library/Frameworks/Python.framework/Versions/3.5/lib/python3.5/site-packages/sklearn/cross_validation.py:44: DeprecationWarning: This module was deprecated in version 0.18 in favor of the model_selection module into which all the refactored classes and functions are moved. Also note that the interface of the new CV iterators are different from that of this module. This module will be removed in 0.20.\n",
      "  \"This module will be removed in 0.20.\", DeprecationWarning)\n"
     ]
    }
   ],
   "source": [
    "# split the dataset to training & testing\n",
    "from sklearn.cross_validation import train_test_split\n",
    "train, test = train_test_split(df, test_size = 0.2)"
   ]
  },
  {
   "cell_type": "code",
   "execution_count": 190,
   "metadata": {
    "collapsed": false
   },
   "outputs": [],
   "source": [
    "from sklearn.linear_model import LogisticRegression\n",
    "from sklearn.feature_extraction.text import CountVectorizer\n",
    "from sklearn.cross_validation import cross_val_score\n",
    "from sklearn.feature_extraction.text import TfidfTransformer\n",
    "from sklearn.naive_bayes import MultinomialNB, BernoulliNB, GaussianNB\n",
    "from sklearn.metrics import precision_score, recall_score, f1_score, roc_auc_score, accuracy_score"
   ]
  },
  {
   "cell_type": "code",
   "execution_count": null,
   "metadata": {
    "collapsed": true
   },
   "outputs": [],
   "source": [
    "df = testbot.append(testgood).fillna(\"\")"
   ]
  },
  {
   "cell_type": "code",
   "execution_count": 196,
   "metadata": {
    "collapsed": true
   },
   "outputs": [],
   "source": [
    "def nb_dt(nb_column_name):\n",
    "    train, test = train_test_split(df, test_size = 0.2)\n",
    "    numfeatures = ['followers_count', 'friends_count', 'listedcount','favourites_count','statuses_count','nb_result']\n",
    "    count_vect = CountVectorizer()\n",
    "    \n",
    "    def convert(column):\n",
    "        X_word_counts = count_vect.fit_transform(column)\n",
    "        count_vect.vocabulary_.get(u'algorithm')\n",
    "        tf_transformer = TfidfTransformer(use_idf=False).fit(X_word_counts)\n",
    "        X_word_tf = tf_transformer.transform(X_word_counts)\n",
    "        return X_word_tf.todense()\n",
    "    \n",
    "    def convert2(column):\n",
    "        X_word_counts = count_vect.transform(test[nb_column_name])\n",
    "        tf_transformer = TfidfTransformer(use_idf=False).fit(X_word_counts)\n",
    "        X_word_tf = tf_transformer.transform(X_word_counts)\n",
    "        return X_word_tf.todense()\n",
    "    \n",
    "    #Train\n",
    "    clf = tree.DecisionTreeClassifier(random_state=0)\n",
    "    M_clf = MultinomialNB().fit(convert(train[nb_column_name]), train['bot'])\n",
    "    train['nb_result'] = M_clf.predict(convert(train[nb_column_name]))\n",
    "    clf.fit(train[numfeatures],train[\"bot\"])\n",
    "    #Test\n",
    "    test['nb_result'] = M_clf.predict(convert2(train[nb_column_name]))\n",
    "    \n",
    "    #Evaluate\n",
    "    accuracy = accuracy_score(clf.predict(test[numfeatures]),test['bot'])\n",
    "    precison = precision_score(clf.predict(test[numfeatures]),test['bot'])\n",
    "    recall = recall_score(clf.predict(test[numfeatures]),test['bot'])\n",
    "    f1 = f1_score(clf.predict(test[numfeatures]),test['bot'])\n",
    "    roc = roc_auc_score(clf.predict(test[numfeatures]),test['bot'])\n",
    "    return [accuracy, precison, recall, f1, roc]"
   ]
  },
  {
   "cell_type": "code",
   "execution_count": 197,
   "metadata": {
    "collapsed": false
   },
   "outputs": [
    {
     "name": "stderr",
     "output_type": "stream",
     "text": [
      "/Library/Frameworks/Python.framework/Versions/3.5/lib/python3.5/site-packages/ipykernel/__main__.py:22: SettingWithCopyWarning: \n",
      "A value is trying to be set on a copy of a slice from a DataFrame.\n",
      "Try using .loc[row_indexer,col_indexer] = value instead\n",
      "\n",
      "See the caveats in the documentation: http://pandas.pydata.org/pandas-docs/stable/indexing.html#indexing-view-versus-copy\n",
      "/Library/Frameworks/Python.framework/Versions/3.5/lib/python3.5/site-packages/ipykernel/__main__.py:25: SettingWithCopyWarning: \n",
      "A value is trying to be set on a copy of a slice from a DataFrame.\n",
      "Try using .loc[row_indexer,col_indexer] = value instead\n",
      "\n",
      "See the caveats in the documentation: http://pandas.pydata.org/pandas-docs/stable/indexing.html#indexing-view-versus-copy\n"
     ]
    },
    {
     "name": "stdout",
     "output_type": "stream",
     "text": [
      "[0.86353467561521258, 0.88837209302325582, 0.83771929824561409, 0.86230248306997737, 0.86406512857486173]\n",
      "[0.84340044742729303, 0.81105990783410142, 0.85853658536585364, 0.83412322274881523, 0.84455754888127388]\n",
      "[0.85011185682326618, 0.82488479262672809, 0.86057692307692313, 0.84235294117647064, 0.85079055358867084]\n",
      "[0.84787472035794187, 0.86473429951690817, 0.81735159817351599, 0.84037558685446012, 0.8472722903148282]\n",
      "[0.82774049217002232, 0.82407407407407407, 0.82027649769585254, 0.8221709006928406, 0.82752955319575239]\n",
      "[0.88590604026845643, 0.87142857142857144, 0.88405797101449279, 0.8776978417266188, 0.88577898550724621]\n",
      "[0.84787472035794187, 0.87155963302752293, 0.82608695652173914, 0.84821428571428581, 0.84852734922861162]\n",
      "[0.8523489932885906, 0.80995475113122173, 0.88177339901477836, 0.84433962264150952, 0.85482112573689739]\n",
      "[0.85458612975391501, 0.875, 0.84120171673819744, 0.85776805251641131, 0.85518029762143521]\n",
      "[0.83445190156599558, 0.88738738738738743, 0.80081300813008127, 0.84188034188034189, 0.83821744933867248]\n",
      "[0.87919463087248317, 0.87850467289719625, 0.87037037037037035, 0.87441860465116283, 0.87890812890812886]\n",
      "[0.87024608501118572, 0.88082901554404147, 0.82926829268292679, 0.85427135678391974, 0.86711348518443854]\n",
      "[0.83221476510067116, 0.87142857142857144, 0.79220779220779225, 0.82993197278911568, 0.83360389610389607]\n",
      "[0.83668903803131989, 0.84057971014492749, 0.81308411214953269, 0.82660332541567694, 0.83572660543098953]\n",
      "[0.85458612975391501, 0.85046728971962615, 0.84651162790697676, 0.84848484848484851, 0.85429029671210888]\n",
      "[0.84787472035794187, 0.81220657276995301, 0.86069651741293529, 0.83574879227053134, 0.84904744569833757]\n",
      "[0.81879194630872487, 0.80303030303030298, 0.79104477611940294, 0.79699248120300747, 0.81625409537677451]\n",
      "[0.84563758389261745, 0.84285714285714286, 0.83098591549295775, 0.83687943262411357, 0.84498013723365839]\n",
      "[0.83892617449664431, 0.80349344978165937, 0.87203791469194314, 0.83636363636363631, 0.8406799742951242]\n",
      "[0.86129753914988816, 0.8545454545454545, 0.86238532110091748, 0.85844748858447473, 0.86132366491727097]\n"
     ]
    }
   ],
   "source": [
    "for _ in range(20):\n",
    "    print(nb_dt('description'))"
   ]
  },
  {
   "cell_type": "code",
   "execution_count": 158,
   "metadata": {
    "collapsed": true
   },
   "outputs": [],
   "source": [
    "from sklearn.metrics import precision_score, recall_score, f1_score, roc_auc_score"
   ]
  },
  {
   "cell_type": "code",
   "execution_count": 198,
   "metadata": {
    "collapsed": false
   },
   "outputs": [],
   "source": [
    "def dt():\n",
    "    df = testbot.append(testgood)\n",
    "    numfeatures = ['followers_count', 'friends_count', 'listedcount','favourites_count','statuses_count']\n",
    "    train, test = train_test_split(df, test_size = 0.2)\n",
    "    clf.fit(train[numfeatures],train[\"bot\"])\n",
    "    accuracy = accuracy_score(clf.predict(test[numfeatures]),test['bot'])\n",
    "    precison = precision_score(clf.predict(test[numfeatures]),test['bot'])\n",
    "    recall = recall_score(clf.predict(test[numfeatures]),test['bot'])\n",
    "    f1 = f1_score(clf.predict(test[numfeatures]),test['bot'])\n",
    "    roc = roc_auc_score(clf.predict(test[numfeatures]),test['bot'])\n",
    "    return [accuracy, precison, recall, f1, roc]"
   ]
  },
  {
   "cell_type": "code",
   "execution_count": 199,
   "metadata": {
    "collapsed": false
   },
   "outputs": [
    {
     "name": "stdout",
     "output_type": "stream",
     "text": [
      "[0.80089485458612975, 0.81603773584905659, 0.77578475336322872, 0.79540229885057467, 0.80083880525304296]\n",
      "[0.81431767337807603, 0.80303030303030298, 0.78325123152709364, 0.79301745635910215, 0.81170758297666157]\n",
      "[0.82102908277404918, 0.79357798165137616, 0.83173076923076927, 0.81220657276995323, 0.82172312520115864]\n",
      "[0.86353467561521258, 0.86729857819905209, 0.84722222222222221, 0.85714285714285698, 0.86300505050505061]\n",
      "[0.83892617449664431, 0.81773399014778325, 0.82587064676616917, 0.82178217821782173, 0.83773207135056427]\n",
      "[0.87472035794183445, 0.8666666666666667, 0.84924623115577891, 0.85786802030456855, 0.87220376073917982]\n",
      "[0.83668903803131989, 0.80597014925373134, 0.82653061224489799, 0.81612090680100768, 0.83557606309456045]\n",
      "[0.8523489932885906, 0.83944954128440363, 0.85514018691588789, 0.84722222222222221, 0.85246279732060481]\n",
      "[0.85011185682326618, 0.84615384615384615, 0.81683168316831678, 0.83123425692695208, 0.8471913517882399]\n",
      "[0.86577181208053688, 0.83574879227053145, 0.8693467336683417, 0.85221674876847286, 0.86612497973739677]\n",
      "[0.8523489932885906, 0.83009708737864074, 0.84653465346534651, 0.83823529411764708, 0.8518387553041018]\n",
      "[0.84116331096196872, 0.83105022831050224, 0.84259259259259256, 0.83678160919540223, 0.84120971620971619]\n",
      "[0.88366890380313201, 0.86976744186046506, 0.88625592417061616, 0.87793427230046939, 0.88380592818700299]\n",
      "[0.85682326621923932, 0.83710407239819007, 0.86854460093896713, 0.85253456221198165, 0.85734922354640652]\n",
      "[0.83445190156599558, 0.82051282051282048, 0.8040201005025126, 0.81218274111675126, 0.83144553412222411]\n",
      "[0.83668903803131989, 0.84684684684684686, 0.82819383259911894, 0.83741648106904221, 0.8368241890268322]\n",
      "[0.82774049217002232, 0.82710280373831779, 0.81566820276497698, 0.82134570765661252, 0.8273993187737928]\n",
      "[0.81655480984340045, 0.80733944954128445, 0.81481481481481477, 0.81105990783410131, 0.8164983164983165]\n",
      "[0.82774049217002232, 0.85321100917431192, 0.80519480519480524, 0.82850779510022265, 0.82852332852332855]\n",
      "[0.84116331096196872, 0.83018867924528306, 0.83412322274881512, 0.8321513002364066, 0.84079042493372957]\n"
     ]
    }
   ],
   "source": [
    "for _ in range(20):\n",
    "    print(dt())"
   ]
  },
  {
   "cell_type": "code",
   "execution_count": null,
   "metadata": {
    "collapsed": true
   },
   "outputs": [],
   "source": []
  }
 ],
 "metadata": {
  "kernelspec": {
   "display_name": "Python 3",
   "language": "python",
   "name": "python3"
  },
  "language_info": {
   "codemirror_mode": {
    "name": "ipython",
    "version": 3
   },
   "file_extension": ".py",
   "mimetype": "text/x-python",
   "name": "python",
   "nbconvert_exporter": "python",
   "pygments_lexer": "ipython3",
   "version": "3.5.2"
  }
 },
 "nbformat": 4,
 "nbformat_minor": 1
}
