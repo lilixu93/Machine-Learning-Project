{
 "cells": [
  {
   "cell_type": "code",
   "execution_count": 1,
   "metadata": {
    "collapsed": true
   },
   "outputs": [],
   "source": [
    "import pandas as pd\n",
    "import numpy as np\n",
    "from sklearn import tree"
   ]
  },
  {
   "cell_type": "code",
   "execution_count": 2,
   "metadata": {
    "collapsed": false
   },
   "outputs": [],
   "source": [
    "#botdata = pd.read_csv('botAccounts.csv')\n",
    "#gooddata= pd.read_csv('GoodAccounts.csv', encoding = 'ISO-8859-1')"
   ]
  },
  {
   "cell_type": "code",
   "execution_count": 2,
   "metadata": {
    "collapsed": true
   },
   "outputs": [],
   "source": [
    "testbot = pd.read_csv(\"/Users/lilixu/Desktop/ML/Machine-Learning-Project/data/bots_data.csv\", encoding = 'ISO-8859-1')\n",
    "testgood = pd.read_csv(\"/Users/lilixu/Desktop/ML/Machine-Learning-Project/data/nonbots_data.csv\", encoding = 'ISO-8859-1')"
   ]
  },
  {
   "cell_type": "code",
   "execution_count": 3,
   "metadata": {
    "collapsed": false
   },
   "outputs": [],
   "source": [
    "df = testbot.append(testgood)"
   ]
  },
  {
   "cell_type": "code",
   "execution_count": 56,
   "metadata": {
    "collapsed": false
   },
   "outputs": [
    {
     "data": {
      "text/html": [
       "<div>\n",
       "<table border=\"1\" class=\"dataframe\">\n",
       "  <thead>\n",
       "    <tr style=\"text-align: right;\">\n",
       "      <th></th>\n",
       "      <th>id</th>\n",
       "      <th>id_str</th>\n",
       "      <th>screen_name</th>\n",
       "      <th>location</th>\n",
       "      <th>description</th>\n",
       "      <th>url</th>\n",
       "      <th>followers_count</th>\n",
       "      <th>friends_count</th>\n",
       "      <th>listedcount</th>\n",
       "      <th>created_at</th>\n",
       "      <th>favourites_count</th>\n",
       "      <th>verified</th>\n",
       "      <th>statuses_count</th>\n",
       "      <th>lang</th>\n",
       "      <th>status</th>\n",
       "      <th>default_profile</th>\n",
       "      <th>default_profile_image</th>\n",
       "      <th>has_extended_profile</th>\n",
       "      <th>name</th>\n",
       "      <th>bot</th>\n",
       "    </tr>\n",
       "  </thead>\n",
       "  <tbody>\n",
       "    <tr>\n",
       "      <th>0</th>\n",
       "      <td>3.982732e+09</td>\n",
       "      <td>3982731976</td>\n",
       "      <td>mcgucket_bot</td>\n",
       "      <td></td>\n",
       "      <td>A bot that tweets every line said by Fiddlefor...</td>\n",
       "      <td></td>\n",
       "      <td>1129</td>\n",
       "      <td>7</td>\n",
       "      <td>2</td>\n",
       "      <td>Sat Oct 17 22:35:31 +0000 2015</td>\n",
       "      <td>0</td>\n",
       "      <td>False</td>\n",
       "      <td>23557</td>\n",
       "      <td>en</td>\n",
       "      <td>{'retweeted': False, 'is_quote_status': False,...</td>\n",
       "      <td>False</td>\n",
       "      <td>False</td>\n",
       "      <td>False</td>\n",
       "      <td>McGucket bot</td>\n",
       "      <td>1</td>\n",
       "    </tr>\n",
       "    <tr>\n",
       "      <th>1</th>\n",
       "      <td>8.410000e+17</td>\n",
       "      <td>8.41E+17</td>\n",
       "      <td>BowieK66</td>\n",
       "      <td></td>\n",
       "      <td></td>\n",
       "      <td></td>\n",
       "      <td>0</td>\n",
       "      <td>22</td>\n",
       "      <td>0</td>\n",
       "      <td>13/03/2017 22:21</td>\n",
       "      <td>0</td>\n",
       "      <td>False</td>\n",
       "      <td>1</td>\n",
       "      <td>en</td>\n",
       "      <td>Status(_api=&lt;tweepy.api.API object at 0x101927...</td>\n",
       "      <td>True</td>\n",
       "      <td>True</td>\n",
       "      <td>False</td>\n",
       "      <td>MJ Kuhn</td>\n",
       "      <td>1</td>\n",
       "    </tr>\n",
       "    <tr>\n",
       "      <th>2</th>\n",
       "      <td>2.768375e+09</td>\n",
       "      <td>2768374981</td>\n",
       "      <td>ducknoteprice</td>\n",
       "      <td></td>\n",
       "      <td></td>\n",
       "      <td></td>\n",
       "      <td>3</td>\n",
       "      <td>0</td>\n",
       "      <td>3</td>\n",
       "      <td>Mon Aug 25 23:17:59 +0000 2014</td>\n",
       "      <td>0</td>\n",
       "      <td>False</td>\n",
       "      <td>1050</td>\n",
       "      <td>en</td>\n",
       "      <td>{'created_at': 'Fri Feb 26 17:01:15 +0000 2016...</td>\n",
       "      <td>True</td>\n",
       "      <td>False</td>\n",
       "      <td>False</td>\n",
       "      <td>duckNote</td>\n",
       "      <td>1</td>\n",
       "    </tr>\n",
       "    <tr>\n",
       "      <th>3</th>\n",
       "      <td>3.304189e+09</td>\n",
       "      <td>3304189373</td>\n",
       "      <td>robotrecipes</td>\n",
       "      <td>robot kitchen</td>\n",
       "      <td>tasty recipes for robot // not for human // a ...</td>\n",
       "      <td>http://t.co/PdagJGqVMR</td>\n",
       "      <td>505</td>\n",
       "      <td>13</td>\n",
       "      <td>49</td>\n",
       "      <td>Sat May 30 23:42:16 +0000 2015</td>\n",
       "      <td>0</td>\n",
       "      <td>False</td>\n",
       "      <td>5109</td>\n",
       "      <td>en</td>\n",
       "      <td>{u'contributors': None, u'truncated': False, u...</td>\n",
       "      <td>False</td>\n",
       "      <td>False</td>\n",
       "      <td>False</td>\n",
       "      <td>robot recipes</td>\n",
       "      <td>1</td>\n",
       "    </tr>\n",
       "    <tr>\n",
       "      <th>4</th>\n",
       "      <td>3.224289e+09</td>\n",
       "      <td>3224289024</td>\n",
       "      <td>everyumlaut</td>\n",
       "      <td></td>\n",
       "      <td>bot by @dbaker_h</td>\n",
       "      <td></td>\n",
       "      <td>15</td>\n",
       "      <td>0</td>\n",
       "      <td>11</td>\n",
       "      <td>Sat May 23 14:39:21 +0000 2015</td>\n",
       "      <td>0</td>\n",
       "      <td>False</td>\n",
       "      <td>31365</td>\n",
       "      <td>en-gb</td>\n",
       "      <td>{u'contributors': None, u'truncated': False, u...</td>\n",
       "      <td>True</td>\n",
       "      <td>False</td>\n",
       "      <td>False</td>\n",
       "      <td>ÌÇvÌÇrÌÀ Ì_mlÌ_Ì_¼Ñ</td>\n",
       "      <td>1</td>\n",
       "    </tr>\n",
       "  </tbody>\n",
       "</table>\n",
       "</div>"
      ],
      "text/plain": [
       "             id      id_str    screen_name       location  \\\n",
       "0  3.982732e+09  3982731976   mcgucket_bot                  \n",
       "1  8.410000e+17    8.41E+17       BowieK66                  \n",
       "2  2.768375e+09  2768374981  ducknoteprice                  \n",
       "3  3.304189e+09  3304189373   robotrecipes  robot kitchen   \n",
       "4  3.224289e+09  3224289024    everyumlaut                  \n",
       "\n",
       "                                         description                     url  \\\n",
       "0  A bot that tweets every line said by Fiddlefor...                           \n",
       "1                                                                              \n",
       "2                                                                              \n",
       "3  tasty recipes for robot // not for human // a ...  http://t.co/PdagJGqVMR   \n",
       "4                                   bot by @dbaker_h                           \n",
       "\n",
       "   followers_count  friends_count  listedcount  \\\n",
       "0             1129              7            2   \n",
       "1                0             22            0   \n",
       "2                3              0            3   \n",
       "3              505             13           49   \n",
       "4               15              0           11   \n",
       "\n",
       "                       created_at  favourites_count verified  statuses_count  \\\n",
       "0  Sat Oct 17 22:35:31 +0000 2015                 0    False           23557   \n",
       "1                13/03/2017 22:21                 0    False               1   \n",
       "2  Mon Aug 25 23:17:59 +0000 2014                 0    False            1050   \n",
       "3  Sat May 30 23:42:16 +0000 2015                 0    False            5109   \n",
       "4  Sat May 23 14:39:21 +0000 2015                 0    False           31365   \n",
       "\n",
       "    lang                                             status default_profile  \\\n",
       "0     en  {'retweeted': False, 'is_quote_status': False,...           False   \n",
       "1     en  Status(_api=<tweepy.api.API object at 0x101927...            True   \n",
       "2     en  {'created_at': 'Fri Feb 26 17:01:15 +0000 2016...            True   \n",
       "3     en  {u'contributors': None, u'truncated': False, u...           False   \n",
       "4  en-gb  {u'contributors': None, u'truncated': False, u...            True   \n",
       "\n",
       "  default_profile_image has_extended_profile                  name  bot  \n",
       "0                 False                False          McGucket bot    1  \n",
       "1                  True                False               MJ Kuhn    1  \n",
       "2                 False                False              duckNote    1  \n",
       "3                 False                False         robot recipes    1  \n",
       "4                 False                False  ÌÇvÌÇrÌÀ Ì_mlÌ_Ì_¼Ñ    1  "
      ]
     },
     "execution_count": 56,
     "metadata": {},
     "output_type": "execute_result"
    }
   ],
   "source": [
    "df.head()"
   ]
  },
  {
   "cell_type": "code",
   "execution_count": 46,
   "metadata": {
    "collapsed": false
   },
   "outputs": [],
   "source": [
    "def adjust_column_name(df):\n",
    "    for x in df.columns.values:\n",
    "        df = df.rename(columns={x: x.lower()})\n",
    "    df = df.rename(columns={'listed_count' : 'listedcount'})"
   ]
  },
  {
   "cell_type": "code",
   "execution_count": 6,
   "metadata": {
    "collapsed": false
   },
   "outputs": [
    {
     "name": "stderr",
     "output_type": "stream",
     "text": [
      "/Library/Frameworks/Python.framework/Versions/3.5/lib/python3.5/site-packages/sklearn/cross_validation.py:44: DeprecationWarning: This module was deprecated in version 0.18 in favor of the model_selection module into which all the refactored classes and functions are moved. Also note that the interface of the new CV iterators are different from that of this module. This module will be removed in 0.20.\n",
      "  \"This module will be removed in 0.20.\", DeprecationWarning)\n"
     ]
    }
   ],
   "source": [
    "from sklearn.cross_validation import train_test_split\n",
    "train, test = train_test_split(df, test_size = 0.2)"
   ]
  },
  {
   "cell_type": "code",
   "execution_count": 53,
   "metadata": {
    "collapsed": false
   },
   "outputs": [],
   "source": [
    "from sklearn.linear_model import LogisticRegression\n",
    "from sklearn.feature_extraction.text import CountVectorizer\n",
    "from sklearn.cross_validation import cross_val_score\n",
    "from sklearn.feature_extraction.text import TfidfTransformer\n",
    "from sklearn.naive_bayes import MultinomialNB, BernoulliNB, GaussianNB"
   ]
  },
  {
   "cell_type": "code",
   "execution_count": 67,
   "metadata": {
    "collapsed": true
   },
   "outputs": [],
   "source": [
    "def nb_dt(nb_column_name):\n",
    "    df = testbot.append(testgood).fillna(\"\")\n",
    "    train, test = train_test_split(df, test_size = 0.2)\n",
    "    numfeatures = ['followers_count', 'friends_count', 'listedcount','favourites_count','statuses_count','nb_result']\n",
    "    count_vect = CountVectorizer()\n",
    "    def convert(column):\n",
    "        X_word_counts = count_vect.fit_transform(column)\n",
    "        count_vect.vocabulary_.get(u'algorithm')\n",
    "        tf_transformer = TfidfTransformer(use_idf=False).fit(X_word_counts)\n",
    "        X_word_tf = tf_transformer.transform(X_word_counts)\n",
    "        return X_word_tf.todense()\n",
    "    def convert2(column):\n",
    "        X_word_counts = count_vect.transform(test[nb_column_name])\n",
    "        tf_transformer = TfidfTransformer(use_idf=False).fit(X_word_counts)\n",
    "        X_word_tf = tf_transformer.transform(X_word_counts)\n",
    "        return X_word_tf.todense()\n",
    "    #Train\n",
    "    clf = tree.DecisionTreeClassifier(random_state=0)\n",
    "    M_clf = MultinomialNB().fit(convert(train[nb_column_name]), train['bot'])\n",
    "    train['nb_result'] = M_clf.predict(convert(train[nb_column_name]))\n",
    "    clf.fit(train[numfeatures],train[\"bot\"])\n",
    "    #Test\n",
    "    test['nb_result'] = M_clf.predict(convert2(train[nb_column_name]))\n",
    "    return np.mean(clf.predict(test[numfeatures])==test['bot'])"
   ]
  },
  {
   "cell_type": "code",
   "execution_count": 70,
   "metadata": {
    "collapsed": false
   },
   "outputs": [
    {
     "name": "stderr",
     "output_type": "stream",
     "text": [
      "/Library/Frameworks/Python.framework/Versions/3.5/lib/python3.5/site-packages/ipykernel/__main__.py:20: SettingWithCopyWarning: \n",
      "A value is trying to be set on a copy of a slice from a DataFrame.\n",
      "Try using .loc[row_indexer,col_indexer] = value instead\n",
      "\n",
      "See the caveats in the documentation: http://pandas.pydata.org/pandas-docs/stable/indexing.html#indexing-view-versus-copy\n",
      "/Library/Frameworks/Python.framework/Versions/3.5/lib/python3.5/site-packages/ipykernel/__main__.py:23: SettingWithCopyWarning: \n",
      "A value is trying to be set on a copy of a slice from a DataFrame.\n",
      "Try using .loc[row_indexer,col_indexer] = value instead\n",
      "\n",
      "See the caveats in the documentation: http://pandas.pydata.org/pandas-docs/stable/indexing.html#indexing-view-versus-copy\n"
     ]
    },
    {
     "name": "stdout",
     "output_type": "stream",
     "text": [
      "0.498881431767\n",
      "0.818791946309\n",
      "0.870246085011\n",
      "0.82774049217\n"
     ]
    }
   ],
   "source": [
    "for x in ['screen_name', 'name', 'description', 'status']:\n",
    "    print(nb_dt(x))"
   ]
  },
  {
   "cell_type": "code",
   "execution_count": 44,
   "metadata": {
    "collapsed": false
   },
   "outputs": [],
   "source": [
    "def dt():\n",
    "    df = testbot.append(testgood)\n",
    "    numfeatures = ['followers_count', 'friends_count', 'listedcount','favourites_count','statuses_count']\n",
    "    train, test = train_test_split(df, test_size = 0.2)\n",
    "    clf.fit(train[numfeatures],train[\"bot\"])\n",
    "    return np.mean(clf.predict(test[numfeatures])==test['bot'])"
   ]
  },
  {
   "cell_type": "code",
   "execution_count": 45,
   "metadata": {
    "collapsed": false
   },
   "outputs": [
    {
     "data": {
      "text/plain": [
       "0.84250559284116322"
      ]
     },
     "execution_count": 45,
     "metadata": {},
     "output_type": "execute_result"
    }
   ],
   "source": [
    "sum(dt() for _ in range(20))/20.0"
   ]
  }
 ],
 "metadata": {
  "kernelspec": {
   "display_name": "Python 3",
   "language": "python",
   "name": "python3"
  },
  "language_info": {
   "codemirror_mode": {
    "name": "ipython",
    "version": 3
   },
   "file_extension": ".py",
   "mimetype": "text/x-python",
   "name": "python",
   "nbconvert_exporter": "python",
   "pygments_lexer": "ipython3",
   "version": "3.5.2"
  }
 },
 "nbformat": 4,
 "nbformat_minor": 1
}
