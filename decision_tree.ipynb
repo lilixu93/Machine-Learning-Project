{
 "cells": [
  {
   "cell_type": "code",
   "execution_count": 1,
   "metadata": {
    "collapsed": true
   },
   "outputs": [],
   "source": [
    "import pandas as pd\n",
    "import numpy as np\n",
    "from sklearn import tree"
   ]
  },
  {
   "cell_type": "code",
   "execution_count": 2,
   "metadata": {
    "collapsed": false
   },
   "outputs": [],
   "source": [
    "#botdata = pd.read_csv('botAccounts.csv')\n",
    "#gooddata= pd.read_csv('GoodAccounts.csv', encoding = 'ISO-8859-1')"
   ]
  },
  {
   "cell_type": "code",
   "execution_count": 2,
   "metadata": {
    "collapsed": true
   },
   "outputs": [],
   "source": [
    "testbot = pd.read_csv(\"/Users/lilixu/Desktop/ML/Machine-Learning-Project/data/bots_data.csv\", encoding = 'ISO-8859-1')\n",
    "testgood = pd.read_csv(\"/Users/lilixu/Desktop/ML/Machine-Learning-Project/data/nonbots_data.csv\", encoding = 'ISO-8859-1')"
   ]
  },
  {
   "cell_type": "code",
   "execution_count": 3,
   "metadata": {
    "collapsed": false
   },
   "outputs": [],
   "source": [
    "df = testbot.append(testgood)"
   ]
  },
  {
   "cell_type": "code",
   "execution_count": 146,
   "metadata": {
    "collapsed": false
   },
   "outputs": [
    {
     "data": {
      "text/plain": [
       "(1056, 20)"
      ]
     },
     "execution_count": 146,
     "metadata": {},
     "output_type": "execute_result"
    }
   ],
   "source": [
    "testbot.shape"
   ]
  },
  {
   "cell_type": "code",
   "execution_count": 147,
   "metadata": {
    "collapsed": false
   },
   "outputs": [
    {
     "data": {
      "text/plain": [
       "(1176, 20)"
      ]
     },
     "execution_count": 147,
     "metadata": {},
     "output_type": "execute_result"
    }
   ],
   "source": [
    "testgood.shape"
   ]
  },
  {
   "cell_type": "code",
   "execution_count": 143,
   "metadata": {
    "collapsed": false
   },
   "outputs": [
    {
     "data": {
      "text/plain": [
       "(2232, 20)"
      ]
     },
     "execution_count": 143,
     "metadata": {},
     "output_type": "execute_result"
    }
   ],
   "source": [
    "df.shape"
   ]
  },
  {
   "cell_type": "code",
   "execution_count": 46,
   "metadata": {
    "collapsed": false
   },
   "outputs": [],
   "source": [
    "#modify the column name to fit\n",
    "def adjust_column_name(df):\n",
    "    for x in df.columns.values:\n",
    "        df = df.rename(columns={x: x.lower()})\n",
    "    df = df.rename(columns={'listed_count' : 'listedcount'})"
   ]
  },
  {
   "cell_type": "code",
   "execution_count": 6,
   "metadata": {
    "collapsed": false
   },
   "outputs": [
    {
     "name": "stderr",
     "output_type": "stream",
     "text": [
      "/Library/Frameworks/Python.framework/Versions/3.5/lib/python3.5/site-packages/sklearn/cross_validation.py:44: DeprecationWarning: This module was deprecated in version 0.18 in favor of the model_selection module into which all the refactored classes and functions are moved. Also note that the interface of the new CV iterators are different from that of this module. This module will be removed in 0.20.\n",
      "  \"This module will be removed in 0.20.\", DeprecationWarning)\n"
     ]
    }
   ],
   "source": [
    "# split the dataset to training & testing\n",
    "from sklearn.cross_validation import train_test_split\n",
    "train, test = train_test_split(df, test_size = 0.2)"
   ]
  },
  {
   "cell_type": "code",
   "execution_count": 190,
   "metadata": {
    "collapsed": false
   },
   "outputs": [],
   "source": [
    "from sklearn.linear_model import LogisticRegression\n",
    "from sklearn.feature_extraction.text import CountVectorizer\n",
    "from sklearn.cross_validation import cross_val_score\n",
    "from sklearn.feature_extraction.text import TfidfTransformer\n",
    "from sklearn.naive_bayes import MultinomialNB, BernoulliNB, GaussianNB\n",
    "from sklearn.metrics import precision_score, recall_score, f1_score, roc_auc_score, accuracy_score"
   ]
  },
  {
   "cell_type": "code",
   "execution_count": null,
   "metadata": {
    "collapsed": true
   },
   "outputs": [],
   "source": [
    "df = testbot.append(testgood).fillna(\"\")"
   ]
  },
  {
   "cell_type": "code",
   "execution_count": 191,
   "metadata": {
    "collapsed": true
   },
   "outputs": [],
   "source": [
    "def nb_dt(nb_column_name):\n",
    "    train, test = train_test_split(df, test_size = 0.2)\n",
    "    numfeatures = ['followers_count', 'friends_count', 'listedcount','favourites_count','statuses_count','nb_result']\n",
    "    count_vect = CountVectorizer()\n",
    "    \n",
    "    def convert(column):\n",
    "        X_word_counts = count_vect.fit_transform(column)\n",
    "        count_vect.vocabulary_.get(u'algorithm')\n",
    "        tf_transformer = TfidfTransformer(use_idf=False).fit(X_word_counts)\n",
    "        X_word_tf = tf_transformer.transform(X_word_counts)\n",
    "        return X_word_tf.todense()\n",
    "    \n",
    "    def convert2(column):\n",
    "        X_word_counts = count_vect.transform(test[nb_column_name])\n",
    "        tf_transformer = TfidfTransformer(use_idf=False).fit(X_word_counts)\n",
    "        X_word_tf = tf_transformer.transform(X_word_counts)\n",
    "        return X_word_tf.todense()\n",
    "    \n",
    "    #Train\n",
    "    clf = tree.DecisionTreeClassifier(random_state=0)\n",
    "    M_clf = MultinomialNB().fit(convert(train[nb_column_name]), train['bot'])\n",
    "    train['nb_result'] = M_clf.predict(convert(train[nb_column_name]))\n",
    "    clf.fit(train[numfeatures],train[\"bot\"])\n",
    "    #Test\n",
    "    test['nb_result'] = M_clf.predict(convert2(train[nb_column_name]))\n",
    "    \n",
    "    #Evaluate\n",
    "    accuracy = accuracy_score(clf.predict(test[numfeatures]),test['bot'])\n",
    "    precison = precision_score(clf.predict(test[numfeatures]),test['bot'])\n",
    "    recall = recall_score(clf.predict(test[numfeatures]),test['bot'])\n",
    "    f1 = f1_score(clf.predict(test[numfeatures]),test['bot'])\n",
    "    roc = roc_auc_score(clf.predict(test[numfeatures]),test['bot'])\n",
    "    return [precison, recall, f1, roc]"
   ]
  },
  {
   "cell_type": "code",
   "execution_count": 195,
   "metadata": {
    "collapsed": false
   },
   "outputs": [
    {
     "name": "stderr",
     "output_type": "stream",
     "text": [
      "/Library/Frameworks/Python.framework/Versions/3.5/lib/python3.5/site-packages/ipykernel/__main__.py:22: SettingWithCopyWarning: \n",
      "A value is trying to be set on a copy of a slice from a DataFrame.\n",
      "Try using .loc[row_indexer,col_indexer] = value instead\n",
      "\n",
      "See the caveats in the documentation: http://pandas.pydata.org/pandas-docs/stable/indexing.html#indexing-view-versus-copy\n",
      "/Library/Frameworks/Python.framework/Versions/3.5/lib/python3.5/site-packages/ipykernel/__main__.py:25: SettingWithCopyWarning: \n",
      "A value is trying to be set on a copy of a slice from a DataFrame.\n",
      "Try using .loc[row_indexer,col_indexer] = value instead\n",
      "\n",
      "See the caveats in the documentation: http://pandas.pydata.org/pandas-docs/stable/indexing.html#indexing-view-versus-copy\n"
     ]
    },
    {
     "name": "stdout",
     "output_type": "stream",
     "text": [
      "[0.89655172413793105, 0.78787878787878785, 0.83870967741935487, 0.84532828282828276]\n",
      "[0.86538461538461542, 0.8035714285714286, 0.83333333333333337, 0.83900544522741827]\n",
      "[0.85572139303482586, 0.85572139303482586, 0.85572139303482586, 0.86891760708651866]\n",
      "[0.86190476190476195, 0.84976525821596249, 0.85579196217494102, 0.86291681714216928]\n",
      "[0.85116279069767442, 0.83561643835616439, 0.84331797235023032, 0.84763278058159097]\n",
      "[0.88584474885844744, 0.83620689655172409, 0.86031042128603097, 0.85996391339214118]\n",
      "[0.83177570093457942, 0.839622641509434, 0.83568075117370888, 0.84321557607386588]\n",
      "[0.84541062801932365, 0.84951456310679607, 0.84745762711864392, 0.85836724005962206]\n",
      "[0.80660377358490565, 0.82608695652173914, 0.81622911694510736, 0.82762681159420293]\n",
      "[0.84158415841584155, 0.80952380952380953, 0.8252427184466018, 0.83725135623869795]\n",
      "[0.85784313725490191, 0.83732057416267947, 0.84745762711864414, 0.85773591733344057]\n",
      "[0.82741116751269039, 0.7990196078431373, 0.81296758104738165, 0.82955095618494312]\n",
      "[0.90816326530612246, 0.82790697674418601, 0.86618004866180043, 0.87516038492381709]\n",
      "[0.80281690140845074, 0.8423645320197044, 0.82211538461538469, 0.83511669223936047]\n",
      "[0.863849765258216, 0.85185185185185186, 0.85780885780885774, 0.86315536315536323]\n",
      "[0.84878048780487803, 0.80555555555555558, 0.82660332541567683, 0.83567821067821069]\n",
      "[0.83412322274881512, 0.85853658536585364, 0.84615384615384603, 0.85695424309614998]\n",
      "[0.84753363228699552, 0.84753363228699552, 0.84753363228699552, 0.84787395900064055]\n",
      "[0.9023255813953488, 0.86222222222222222, 0.88181818181818172, 0.88381381381381374]\n",
      "[0.89340101522842641, 0.80365296803652964, 0.84615384615384615, 0.85577385243931747]\n"
     ]
    }
   ],
   "source": [
    "for _ in range(20):\n",
    "    print(nb_dt('description'))"
   ]
  },
  {
   "cell_type": "code",
   "execution_count": 158,
   "metadata": {
    "collapsed": true
   },
   "outputs": [],
   "source": [
    "from sklearn.metrics import precision_score, recall_score, f1_score, roc_auc_score"
   ]
  },
  {
   "cell_type": "code",
   "execution_count": 193,
   "metadata": {
    "collapsed": false
   },
   "outputs": [],
   "source": [
    "def dt():\n",
    "    df = testbot.append(testgood)\n",
    "    numfeatures = ['followers_count', 'friends_count', 'listedcount','favourites_count','statuses_count']\n",
    "    train, test = train_test_split(df, test_size = 0.2)\n",
    "    clf.fit(train[numfeatures],train[\"bot\"])\n",
    "    accuracy = accuracy_score(clf.predict(test[numfeatures]),test['bot'])\n",
    "    precison = precision_score(clf.predict(test[numfeatures]),test['bot'])\n",
    "    recall = recall_score(clf.predict(test[numfeatures]),test['bot'])\n",
    "    f1 = f1_score(clf.predict(test[numfeatures]),test['bot'])\n",
    "    roc = roc_auc_score(clf.predict(test[numfeatures]),test['bot'])\n",
    "    return [precison, recall, f1, roc]"
   ]
  },
  {
   "cell_type": "code",
   "execution_count": 194,
   "metadata": {
    "collapsed": false
   },
   "outputs": [
    {
     "name": "stdout",
     "output_type": "stream",
     "text": [
      "[0.81777777777777783, 0.84792626728110598, 0.83257918552036203, 0.8348326988579442]\n",
      "[0.87142857142857144, 0.84331797235023043, 0.85714285714285721, 0.86296333400120218]\n",
      "[0.82648401826484019, 0.85781990521327012, 0.84186046511627899, 0.84840147803036392]\n",
      "[0.84651162790697676, 0.87081339712918659, 0.85849056603773588, 0.8660789674721564]\n",
      "[0.865979381443299, 0.79620853080568721, 0.82962962962962972, 0.84301951964013178]\n",
      "[0.80487804878048785, 0.82914572864321612, 0.81683168316831678, 0.83392770303128549]\n",
      "[0.8133971291866029, 0.80568720379146919, 0.80952380952380953, 0.82021648325166685]\n",
      "[0.85416666666666663, 0.75229357798165142, 0.80000000000000004, 0.81501141781178643]\n",
      "[0.82857142857142863, 0.79090909090909089, 0.80930232558139537, 0.81615939126952342]\n",
      "[0.86206896551724133, 0.80645161290322576, 0.83333333333333337, 0.84235624123422159]\n",
      "[0.80769230769230771, 0.89839572192513373, 0.85063291139240516, 0.87227478403948999]\n",
      "[0.83091787439613529, 0.80000000000000004, 0.81516587677725139, 0.82456896551724135]\n",
      "[0.81042654028436023, 0.81818181818181823, 0.81428571428571439, 0.82505729564553087]\n",
      "[0.875, 0.86343612334801767, 0.86917960088691792, 0.86808169803764534]\n",
      "[0.82758620689655171, 0.80382775119617222, 0.81553398058252413, 0.82838446383338016]\n",
      "[0.79207920792079212, 0.81218274111675126, 0.80200501253132828, 0.82209137055837556]\n",
      "[0.79146919431279616, 0.82673267326732669, 0.80871670702179177, 0.82357041826631638]\n",
      "[0.82648401826484019, 0.8418604651162791, 0.8341013824884792, 0.83903368083400165]\n",
      "[0.82775119617224879, 0.83574879227053145, 0.83173076923076916, 0.84287439613526571]\n",
      "[0.83886255924170616, 0.7901785714285714, 0.81379310344827582, 0.81885610185778346]\n"
     ]
    }
   ],
   "source": [
    "for _ in range(20):\n",
    "    print(dt())"
   ]
  },
  {
   "cell_type": "code",
   "execution_count": null,
   "metadata": {
    "collapsed": true
   },
   "outputs": [],
   "source": []
  }
 ],
 "metadata": {
  "kernelspec": {
   "display_name": "Python 3",
   "language": "python",
   "name": "python3"
  },
  "language_info": {
   "codemirror_mode": {
    "name": "ipython",
    "version": 3
   },
   "file_extension": ".py",
   "mimetype": "text/x-python",
   "name": "python",
   "nbconvert_exporter": "python",
   "pygments_lexer": "ipython3",
   "version": "3.5.2"
  }
 },
 "nbformat": 4,
 "nbformat_minor": 1
}
